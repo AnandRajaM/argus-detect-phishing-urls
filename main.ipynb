{
 "cells": [
  {
   "cell_type": "code",
   "execution_count": 4,
   "metadata": {},
   "outputs": [],
   "source": [
    "import matplotlib.pyplot as plt\n",
    "import seaborn as sns\n",
    "\n",
    "from sklearn import metrics\n",
    "from sklearn.metrics import r2_score\n",
    "from sklearn.metrics import accuracy_score\n",
    "from sklearn.metrics import confusion_matrix\n",
    "from sklearn.metrics import cohen_kappa_score\n",
    "from sklearn.metrics import mean_squared_error\n",
    "from sklearn.metrics import classification_report\n",
    "from sklearn.metrics import ConfusionMatrixDisplay\n",
    "from sklearn.metrics import precision_recall_curve\n",
    "from sklearn.model_selection import cross_val_score\n",
    "from sklearn.metrics import roc_curve, roc_auc_score\n",
    "\n",
    "\n",
    "from tensorflow.keras.models import Sequential\n",
    "from tensorflow.keras.layers import Dense\n",
    "import pandas as pd\n",
    "import numpy as np\n",
    "import scipy.stats as stats\n",
    "import plotly.graph_objs as go\n",
    "import yellowbrick\n",
    "\n",
    "import time"
   ]
  },
  {
   "cell_type": "code",
   "execution_count": 6,
   "metadata": {},
   "outputs": [
    {
     "name": "stdout",
     "output_type": "stream",
     "text": [
      "     FILENAME                                 URL  URLLength  \\\n",
      "0  521848.txt    https://www.southbankmosaics.com         31   \n",
      "1   31372.txt            https://www.uni-mainz.de         23   \n",
      "2  597387.txt      https://www.voicefmradio.co.uk         29   \n",
      "3  554095.txt         https://www.sfnmjournal.com         26   \n",
      "4  151578.txt  https://www.rewildingargentina.org         33   \n",
      "\n",
      "                       Domain  DomainLength  IsDomainIP  TLD  \\\n",
      "0    www.southbankmosaics.com            24           0  com   \n",
      "1            www.uni-mainz.de            16           0   de   \n",
      "2      www.voicefmradio.co.uk            22           0   uk   \n",
      "3         www.sfnmjournal.com            19           0  com   \n",
      "4  www.rewildingargentina.org            26           0  org   \n",
      "\n",
      "   URLSimilarityIndex  CharContinuationRate  TLDLegitimateProb  ...  Pay  \\\n",
      "0               100.0              1.000000           0.522907  ...    0   \n",
      "1               100.0              0.666667           0.032650  ...    0   \n",
      "2               100.0              0.866667           0.028555  ...    0   \n",
      "3               100.0              1.000000           0.522907  ...    1   \n",
      "4               100.0              1.000000           0.079963  ...    1   \n",
      "\n",
      "   Crypto  HasCopyrightInfo  NoOfImage  NoOfCSS  NoOfJS  NoOfSelfRef  \\\n",
      "0       0                 1         34       20      28          119   \n",
      "1       0                 1         50        9       8           39   \n",
      "2       0                 1         10        2       7           42   \n",
      "3       1                 1          3       27      15           22   \n",
      "4       0                 1        244       15      34           72   \n",
      "\n",
      "   NoOfEmptyRef  NoOfExternalRef  label  \n",
      "0             0              124      1  \n",
      "1             0              217      1  \n",
      "2             2                5      1  \n",
      "3             1               31      1  \n",
      "4             1               85      1  \n",
      "\n",
      "[5 rows x 56 columns]\n",
      "(235795, 56)\n"
     ]
    }
   ],
   "source": [
    "sites_df = pd.read_csv(\"phishing_site_urls.csv\", header = 0)\n",
    "print(sites_df.head())\n",
    "print(sites_df.shape)"
   ]
  }
 ],
 "metadata": {
  "kernelspec": {
   "display_name": "Python 3",
   "language": "python",
   "name": "python3"
  },
  "language_info": {
   "codemirror_mode": {
    "name": "ipython",
    "version": 3
   },
   "file_extension": ".py",
   "mimetype": "text/x-python",
   "name": "python",
   "nbconvert_exporter": "python",
   "pygments_lexer": "ipython3",
   "version": "3.11.6"
  }
 },
 "nbformat": 4,
 "nbformat_minor": 2
}
